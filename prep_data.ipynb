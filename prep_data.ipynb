{
 "cells": [
  {
   "cell_type": "code",
   "execution_count": 1,
   "metadata": {},
   "outputs": [],
   "source": [
    "import os\n",
    "import json\n",
    "import pandas as pd\n",
    "import urllib.request\n",
    "import boto3\n",
    "import base64\n",
    "import requests\n",
    "\n",
    "from requests.auth import HTTPBasicAuth\n",
    "from botocore.config import Config"
   ]
  },
  {
   "cell_type": "code",
   "execution_count": 2,
   "metadata": {},
   "outputs": [],
   "source": [
    "json_files = [pos_json for pos_json in os.listdir('movielens/') if pos_json.endswith('.json')]\n",
    "json_data = []\n",
    "for index, js in enumerate(json_files):\n",
    "    with open(os.path.join('movielens/', js)) as json_file:\n",
    "        json_text = json.load(json_file).get('data').get('searchResults')\n",
    "        json_data.extend(json_text)"
   ]
  },
  {
   "cell_type": "code",
   "execution_count": 3,
   "metadata": {},
   "outputs": [],
   "source": [
    "df = pd.DataFrame([json_data[i]['movie'] for i in range(len(json_data))])"
   ]
  },
  {
   "cell_type": "code",
   "execution_count": 4,
   "metadata": {},
   "outputs": [],
   "source": [
    "\n",
    "def download_image(url, file_path, file_name):\n",
    "    full_path = file_path + file_name\n",
    "    urllib.request.urlretrieve(url, full_path)"
   ]
  },
  {
   "cell_type": "code",
   "execution_count": 6,
   "metadata": {},
   "outputs": [],
   "source": [
    "for index, row in df.iterrows():\n",
    "    url = 'https://image.tmdb.org/t/p/w500/' + row['posterPath']\n",
    "    download_image(url, 'images/', row['posterPath'])"
   ]
  },
  {
   "cell_type": "code",
   "execution_count": 7,
   "metadata": {},
   "outputs": [],
   "source": [
    "my_config = Config(\n",
    "    region_name = 'us-east-1',\n",
    "    signature_version = 'v4',\n",
    "    retries = {\n",
    "        'max_attempts': 10,\n",
    "        'mode': 'standard'\n",
    "    }\n",
    ")\n",
    "\n",
    "bedrock = boto3.client(service_name=\"bedrock\", config=my_config)\n",
    "bedrock_runtime = boto3.client(service_name=\"bedrock-runtime\", config=my_config)"
   ]
  },
  {
   "cell_type": "code",
   "execution_count": 8,
   "metadata": {},
   "outputs": [],
   "source": [
    "def get_embedding_for_poster(image_path):\n",
    "    with open(image_path, \"rb\") as image_file:\n",
    "        input_image = base64.b64encode(image_file.read()).decode('utf8')\n",
    "\n",
    "    body = json.dumps(\n",
    "        {\n",
    "            \"inputImage\": input_image\n",
    "        }\n",
    "    )\n",
    "\n",
    "    response = bedrock_runtime.invoke_model(\n",
    "        body=body, \n",
    "        modelId=\"amazon.titan-embed-image-v1\", \n",
    "        accept=\"application/json\", \n",
    "        contentType=\"application/json\"       \n",
    "    )\n",
    "\n",
    "    vector_json = json.loads(response['body'].read().decode('utf8'))\n",
    "    image_name = image_path.split(\"/\")[-1].split(\".\")[0]\n",
    "\n",
    "    return vector_json, image_name\n",
    "\n",
    "def get_embedding_for_poster_and_title(image_path, title):\n",
    "    with open(image_path, \"rb\") as image_file:\n",
    "        input_image = base64.b64encode(image_file.read()).decode('utf8')\n",
    "\n",
    "    body = json.dumps(\n",
    "        {\n",
    "            \"inputImage\": input_image,\n",
    "            \"inputText\": title\n",
    "        }\n",
    "    )\n",
    "\n",
    "    response = bedrock_runtime.invoke_model(\n",
    "        body=body, \n",
    "        modelId=\"amazon.titan-embed-image-v1\", \n",
    "        accept=\"application/json\", \n",
    "        contentType=\"application/json\"       \n",
    "    )\n",
    "\n",
    "    vector_json = json.loads(response['body'].read().decode('utf8'))\n",
    "    image_name = image_path.split(\"/\")[-1].split(\".\")[0]\n",
    "\n",
    "    return vector_json, image_name\n",
    "\n",
    "\n",
    "def get_embedding_for_text(text):\n",
    "    body = json.dumps(\n",
    "        {\n",
    "            \"inputText\": text\n",
    "        }\n",
    "    )\n",
    "\n",
    "    response = bedrock_runtime.invoke_model(\n",
    "        body=body, \n",
    "        modelId=\"amazon.titan-embed-image-v1\", \n",
    "        accept=\"application/json\", \n",
    "        contentType=\"application/json\"       \n",
    "    )\n",
    "\n",
    "    vector_json = json.loads(response['body'].read().decode('utf8'))\n",
    "\n",
    "    return vector_json, text"
   ]
  },
  {
   "cell_type": "code",
   "execution_count": 10,
   "metadata": {},
   "outputs": [],
   "source": [
    "for index, row in df.iterrows():\n",
    "    image_path = 'images/' + row['posterPath']\n",
    "    vector_json, image_name = get_embedding_for_poster(image_path)\n",
    "    with open('embeddings/' + image_name + '.json', 'w') as f:\n",
    "        json.dump(vector_json, f)"
   ]
  },
  {
   "cell_type": "code",
   "execution_count": 11,
   "metadata": {},
   "outputs": [],
   "source": [
    "for index, row in df.iterrows():\n",
    "    image_path = 'images/' + row['posterPath']\n",
    "    vector_json, image_name = get_embedding_for_poster_and_title(image_path, row['title'])\n",
    "    with open('embeddings/' + 'with_title_' + image_name + '.json', 'w') as f:\n",
    "        json.dump(vector_json, f)"
   ]
  },
  {
   "cell_type": "code",
   "execution_count": 12,
   "metadata": {},
   "outputs": [],
   "source": [
    "df = df.drop(columns=['dvdReleaseDate', 'backdropPaths', 'youtubeTrailerIds', 'numRatings', 'avgRating'])"
   ]
  },
  {
   "cell_type": "code",
   "execution_count": 23,
   "metadata": {},
   "outputs": [
    {
     "name": "stdout",
     "output_type": "stream",
     "text": [
      "Defaulting to user installation because normal site-packages is not writeable\n",
      "Requirement already satisfied: opensearch-py in /Users/sanghwa/Library/Python/3.9/lib/python/site-packages (2.4.2)\n",
      "Requirement already satisfied: pip in /Applications/Xcode.app/Contents/Developer/Library/Frameworks/Python3.framework/Versions/3.9/lib/python3.9/site-packages (21.2.4)\n",
      "Collecting install\n",
      "  Downloading install-1.3.5-py3-none-any.whl (3.2 kB)\n",
      "Collecting requests-aws4auth\n",
      "  Downloading requests_aws4auth-1.2.3-py2.py3-none-any.whl (24 kB)\n",
      "Requirement already satisfied: six in /Applications/Xcode.app/Contents/Developer/Library/Frameworks/Python3.framework/Versions/3.9/lib/python3.9/site-packages (from opensearch-py) (1.15.0)\n",
      "Requirement already satisfied: certifi>=2022.12.07 in /Users/sanghwa/Library/Python/3.9/lib/python/site-packages (from opensearch-py) (2023.7.22)\n",
      "Requirement already satisfied: urllib3>=1.26.18 in /Users/sanghwa/Library/Python/3.9/lib/python/site-packages (from opensearch-py) (2.1.0)\n",
      "Requirement already satisfied: requests<3.0.0,>=2.4.0 in /Users/sanghwa/Library/Python/3.9/lib/python/site-packages (from opensearch-py) (2.31.0)\n",
      "Requirement already satisfied: python-dateutil in /Users/sanghwa/Library/Python/3.9/lib/python/site-packages (from opensearch-py) (2.8.2)\n",
      "Requirement already satisfied: idna<4,>=2.5 in /Users/sanghwa/Library/Python/3.9/lib/python/site-packages (from requests<3.0.0,>=2.4.0->opensearch-py) (3.4)\n",
      "Requirement already satisfied: charset-normalizer<4,>=2 in /Users/sanghwa/Library/Python/3.9/lib/python/site-packages (from requests<3.0.0,>=2.4.0->opensearch-py) (3.3.0)\n",
      "Installing collected packages: requests-aws4auth, install\n",
      "Successfully installed install-1.3.5 requests-aws4auth-1.2.3\n",
      "\u001b[33mWARNING: You are using pip version 21.2.4; however, version 23.3.1 is available.\n",
      "You should consider upgrading via the '/Applications/Xcode.app/Contents/Developer/usr/bin/python3 -m pip install --upgrade pip' command.\u001b[0m\n"
     ]
    }
   ],
   "source": [
    "!pip3 install opensearch-py  pip install requests-aws4auth\n",
    "\n"
   ]
  },
  {
   "cell_type": "code",
   "execution_count": 35,
   "metadata": {},
   "outputs": [],
   "source": [
    "import boto3\n",
    "from requests_aws4auth import AWS4Auth\n",
    "from opensearchpy import OpenSearch, RequestsHttpConnection\n",
    "\n",
    "# The region where you're running the OpenSearch cluster\n",
    "region = 'us-east-1'\n",
    "\n",
    "# Create a Boto3 session which will use the IAM role's credentials\n",
    "session = boto3.Session()\n",
    "\n",
    "# Get credentials from the session\n",
    "credentials = session.get_credentials()\n",
    "\n",
    "# AWS4Auth instance to sign our requests\n",
    "awsauth = AWS4Auth(\n",
    "    credentials.access_key,\n",
    "    credentials.secret_key,\n",
    "    region,\n",
    "    'aoss',\n",
    "    session_token=credentials.token  # Note: session_token is only needed when using temporary credentials.\n",
    ")\n",
    "\n",
    "# OpenSearch client configuration\n",
    "host = 'ou37o53xx1kq6ddquv1c.us-east-1.aoss.amazonaws.com'  # For example: 'search-mydomain.us-west-1.es.amazonaws.com'\n",
    "port = 443  # OpenSearch uses port 443 for HTTPS\n",
    "use_ssl = True\n",
    "\n",
    "# Create the OpenSearch client using the Boto3 session credentials\n",
    "search = OpenSearch(\n",
    "    hosts=[{'host': host, 'port': port}],\n",
    "    http_auth=awsauth,\n",
    "    use_ssl=use_ssl,\n",
    "    verify_certs=True,\n",
    "    connection_class=RequestsHttpConnection\n",
    ")\n",
    "\n",
    "# Example: Get information about the OpenSearch cluster\n",
    "# response = search_client.info()\n",
    "\n",
    "# print(response)\n"
   ]
  },
  {
   "cell_type": "code",
   "execution_count": 40,
   "metadata": {},
   "outputs": [
    {
     "ename": "NotFoundError",
     "evalue": "NotFoundError(404, 'index_not_found_exception', 'no such index [multi-modal-embedding-index]')",
     "output_type": "error",
     "traceback": [
      "\u001b[0;31m---------------------------------------------------------------------------\u001b[0m",
      "\u001b[0;31mNotFoundError\u001b[0m                             Traceback (most recent call last)",
      "Cell \u001b[0;32mIn[40], line 3\u001b[0m\n\u001b[1;32m      1\u001b[0m \u001b[38;5;66;03m# Delete the index\u001b[39;00m\n\u001b[1;32m      2\u001b[0m index_name \u001b[38;5;241m=\u001b[39m \u001b[38;5;124m\"\u001b[39m\u001b[38;5;124mmulti-modal-embedding-index\u001b[39m\u001b[38;5;124m\"\u001b[39m\n\u001b[0;32m----> 3\u001b[0m response \u001b[38;5;241m=\u001b[39m \u001b[43msearch\u001b[49m\u001b[38;5;241;43m.\u001b[39;49m\u001b[43mindices\u001b[49m\u001b[38;5;241;43m.\u001b[39;49m\u001b[43mdelete\u001b[49m\u001b[43m(\u001b[49m\u001b[43mindex\u001b[49m\u001b[38;5;241;43m=\u001b[39;49m\u001b[43mindex_name\u001b[49m\u001b[43m)\u001b[49m\n\u001b[1;32m      4\u001b[0m \u001b[38;5;28mprint\u001b[39m(response)\n",
      "File \u001b[0;32m~/Library/Python/3.9/lib/python/site-packages/opensearchpy/client/utils.py:181\u001b[0m, in \u001b[0;36mquery_params.<locals>._wrapper.<locals>._wrapped\u001b[0;34m(*args, **kwargs)\u001b[0m\n\u001b[1;32m    178\u001b[0m         \u001b[38;5;28;01mif\u001b[39;00m v \u001b[38;5;129;01mis\u001b[39;00m \u001b[38;5;129;01mnot\u001b[39;00m \u001b[38;5;28;01mNone\u001b[39;00m:\n\u001b[1;32m    179\u001b[0m             params[p] \u001b[38;5;241m=\u001b[39m _escape(v)\n\u001b[0;32m--> 181\u001b[0m \u001b[38;5;28;01mreturn\u001b[39;00m \u001b[43mfunc\u001b[49m\u001b[43m(\u001b[49m\u001b[38;5;241;43m*\u001b[39;49m\u001b[43margs\u001b[49m\u001b[43m,\u001b[49m\u001b[43m \u001b[49m\u001b[43mparams\u001b[49m\u001b[38;5;241;43m=\u001b[39;49m\u001b[43mparams\u001b[49m\u001b[43m,\u001b[49m\u001b[43m \u001b[49m\u001b[43mheaders\u001b[49m\u001b[38;5;241;43m=\u001b[39;49m\u001b[43mheaders\u001b[49m\u001b[43m,\u001b[49m\u001b[43m \u001b[49m\u001b[38;5;241;43m*\u001b[39;49m\u001b[38;5;241;43m*\u001b[39;49m\u001b[43mkwargs\u001b[49m\u001b[43m)\u001b[49m\n",
      "File \u001b[0;32m~/Library/Python/3.9/lib/python/site-packages/opensearchpy/client/indices.py:386\u001b[0m, in \u001b[0;36mIndicesClient.delete\u001b[0;34m(self, index, params, headers)\u001b[0m\n\u001b[1;32m    383\u001b[0m \u001b[38;5;28;01mif\u001b[39;00m index \u001b[38;5;129;01min\u001b[39;00m SKIP_IN_PATH:\n\u001b[1;32m    384\u001b[0m     \u001b[38;5;28;01mraise\u001b[39;00m \u001b[38;5;167;01mValueError\u001b[39;00m(\u001b[38;5;124m\"\u001b[39m\u001b[38;5;124mEmpty value passed for a required argument \u001b[39m\u001b[38;5;124m'\u001b[39m\u001b[38;5;124mindex\u001b[39m\u001b[38;5;124m'\u001b[39m\u001b[38;5;124m.\u001b[39m\u001b[38;5;124m\"\u001b[39m)\n\u001b[0;32m--> 386\u001b[0m \u001b[38;5;28;01mreturn\u001b[39;00m \u001b[38;5;28;43mself\u001b[39;49m\u001b[38;5;241;43m.\u001b[39;49m\u001b[43mtransport\u001b[49m\u001b[38;5;241;43m.\u001b[39;49m\u001b[43mperform_request\u001b[49m\u001b[43m(\u001b[49m\n\u001b[1;32m    387\u001b[0m \u001b[43m    \u001b[49m\u001b[38;5;124;43m\"\u001b[39;49m\u001b[38;5;124;43mDELETE\u001b[39;49m\u001b[38;5;124;43m\"\u001b[39;49m\u001b[43m,\u001b[49m\u001b[43m \u001b[49m\u001b[43m_make_path\u001b[49m\u001b[43m(\u001b[49m\u001b[43mindex\u001b[49m\u001b[43m)\u001b[49m\u001b[43m,\u001b[49m\u001b[43m \u001b[49m\u001b[43mparams\u001b[49m\u001b[38;5;241;43m=\u001b[39;49m\u001b[43mparams\u001b[49m\u001b[43m,\u001b[49m\u001b[43m \u001b[49m\u001b[43mheaders\u001b[49m\u001b[38;5;241;43m=\u001b[39;49m\u001b[43mheaders\u001b[49m\n\u001b[1;32m    388\u001b[0m \u001b[43m\u001b[49m\u001b[43m)\u001b[49m\n",
      "File \u001b[0;32m~/Library/Python/3.9/lib/python/site-packages/opensearchpy/transport.py:448\u001b[0m, in \u001b[0;36mTransport.perform_request\u001b[0;34m(self, method, url, params, body, timeout, ignore, headers)\u001b[0m\n\u001b[1;32m    446\u001b[0m             \u001b[38;5;28;01mraise\u001b[39;00m e\n\u001b[1;32m    447\u001b[0m     \u001b[38;5;28;01melse\u001b[39;00m:\n\u001b[0;32m--> 448\u001b[0m         \u001b[38;5;28;01mraise\u001b[39;00m e\n\u001b[1;32m    450\u001b[0m \u001b[38;5;28;01melse\u001b[39;00m:\n\u001b[1;32m    451\u001b[0m     \u001b[38;5;66;03m# connection didn't fail, confirm its live status\u001b[39;00m\n\u001b[1;32m    452\u001b[0m     \u001b[38;5;28mself\u001b[39m\u001b[38;5;241m.\u001b[39mconnection_pool\u001b[38;5;241m.\u001b[39mmark_live(connection)\n",
      "File \u001b[0;32m~/Library/Python/3.9/lib/python/site-packages/opensearchpy/transport.py:409\u001b[0m, in \u001b[0;36mTransport.perform_request\u001b[0;34m(self, method, url, params, body, timeout, ignore, headers)\u001b[0m\n\u001b[1;32m    406\u001b[0m connection \u001b[38;5;241m=\u001b[39m \u001b[38;5;28mself\u001b[39m\u001b[38;5;241m.\u001b[39mget_connection()\n\u001b[1;32m    408\u001b[0m \u001b[38;5;28;01mtry\u001b[39;00m:\n\u001b[0;32m--> 409\u001b[0m     status, headers_response, data \u001b[38;5;241m=\u001b[39m \u001b[43mconnection\u001b[49m\u001b[38;5;241;43m.\u001b[39;49m\u001b[43mperform_request\u001b[49m\u001b[43m(\u001b[49m\n\u001b[1;32m    410\u001b[0m \u001b[43m        \u001b[49m\u001b[43mmethod\u001b[49m\u001b[43m,\u001b[49m\n\u001b[1;32m    411\u001b[0m \u001b[43m        \u001b[49m\u001b[43murl\u001b[49m\u001b[43m,\u001b[49m\n\u001b[1;32m    412\u001b[0m \u001b[43m        \u001b[49m\u001b[43mparams\u001b[49m\u001b[43m,\u001b[49m\n\u001b[1;32m    413\u001b[0m \u001b[43m        \u001b[49m\u001b[43mbody\u001b[49m\u001b[43m,\u001b[49m\n\u001b[1;32m    414\u001b[0m \u001b[43m        \u001b[49m\u001b[43mheaders\u001b[49m\u001b[38;5;241;43m=\u001b[39;49m\u001b[43mheaders\u001b[49m\u001b[43m,\u001b[49m\n\u001b[1;32m    415\u001b[0m \u001b[43m        \u001b[49m\u001b[43mignore\u001b[49m\u001b[38;5;241;43m=\u001b[39;49m\u001b[43mignore\u001b[49m\u001b[43m,\u001b[49m\n\u001b[1;32m    416\u001b[0m \u001b[43m        \u001b[49m\u001b[43mtimeout\u001b[49m\u001b[38;5;241;43m=\u001b[39;49m\u001b[43mtimeout\u001b[49m\u001b[43m,\u001b[49m\n\u001b[1;32m    417\u001b[0m \u001b[43m    \u001b[49m\u001b[43m)\u001b[49m\n\u001b[1;32m    419\u001b[0m     \u001b[38;5;66;03m# Lowercase all the header names for consistency in accessing them.\u001b[39;00m\n\u001b[1;32m    420\u001b[0m     headers_response \u001b[38;5;241m=\u001b[39m {\n\u001b[1;32m    421\u001b[0m         header\u001b[38;5;241m.\u001b[39mlower(): value \u001b[38;5;28;01mfor\u001b[39;00m header, value \u001b[38;5;129;01min\u001b[39;00m headers_response\u001b[38;5;241m.\u001b[39mitems()\n\u001b[1;32m    422\u001b[0m     }\n",
      "File \u001b[0;32m~/Library/Python/3.9/lib/python/site-packages/opensearchpy/connection/http_requests.py:232\u001b[0m, in \u001b[0;36mRequestsHttpConnection.perform_request\u001b[0;34m(self, method, url, params, body, timeout, allow_redirects, ignore, headers)\u001b[0m\n\u001b[1;32m    219\u001b[0m \u001b[38;5;28;01mif\u001b[39;00m (\n\u001b[1;32m    220\u001b[0m     \u001b[38;5;129;01mnot\u001b[39;00m (\u001b[38;5;241m200\u001b[39m \u001b[38;5;241m<\u001b[39m\u001b[38;5;241m=\u001b[39m response\u001b[38;5;241m.\u001b[39mstatus_code \u001b[38;5;241m<\u001b[39m \u001b[38;5;241m300\u001b[39m)\n\u001b[1;32m    221\u001b[0m     \u001b[38;5;129;01mand\u001b[39;00m response\u001b[38;5;241m.\u001b[39mstatus_code \u001b[38;5;129;01mnot\u001b[39;00m \u001b[38;5;129;01min\u001b[39;00m ignore\n\u001b[1;32m    222\u001b[0m ):\n\u001b[1;32m    223\u001b[0m     \u001b[38;5;28mself\u001b[39m\u001b[38;5;241m.\u001b[39mlog_request_fail(\n\u001b[1;32m    224\u001b[0m         method,\n\u001b[1;32m    225\u001b[0m         url,\n\u001b[0;32m   (...)\u001b[0m\n\u001b[1;32m    230\u001b[0m         raw_data,\n\u001b[1;32m    231\u001b[0m     )\n\u001b[0;32m--> 232\u001b[0m     \u001b[38;5;28;43mself\u001b[39;49m\u001b[38;5;241;43m.\u001b[39;49m\u001b[43m_raise_error\u001b[49m\u001b[43m(\u001b[49m\n\u001b[1;32m    233\u001b[0m \u001b[43m        \u001b[49m\u001b[43mresponse\u001b[49m\u001b[38;5;241;43m.\u001b[39;49m\u001b[43mstatus_code\u001b[49m\u001b[43m,\u001b[49m\n\u001b[1;32m    234\u001b[0m \u001b[43m        \u001b[49m\u001b[43mraw_data\u001b[49m\u001b[43m,\u001b[49m\n\u001b[1;32m    235\u001b[0m \u001b[43m        \u001b[49m\u001b[43mresponse\u001b[49m\u001b[38;5;241;43m.\u001b[39;49m\u001b[43mheaders\u001b[49m\u001b[38;5;241;43m.\u001b[39;49m\u001b[43mget\u001b[49m\u001b[43m(\u001b[49m\u001b[38;5;124;43m\"\u001b[39;49m\u001b[38;5;124;43mContent-Type\u001b[39;49m\u001b[38;5;124;43m\"\u001b[39;49m\u001b[43m)\u001b[49m\u001b[43m,\u001b[49m\n\u001b[1;32m    236\u001b[0m \u001b[43m    \u001b[49m\u001b[43m)\u001b[49m\n\u001b[1;32m    238\u001b[0m \u001b[38;5;28mself\u001b[39m\u001b[38;5;241m.\u001b[39mlog_request_success(\n\u001b[1;32m    239\u001b[0m     method,\n\u001b[1;32m    240\u001b[0m     url,\n\u001b[0;32m   (...)\u001b[0m\n\u001b[1;32m    245\u001b[0m     duration,\n\u001b[1;32m    246\u001b[0m )\n\u001b[1;32m    248\u001b[0m \u001b[38;5;28;01mreturn\u001b[39;00m response\u001b[38;5;241m.\u001b[39mstatus_code, response\u001b[38;5;241m.\u001b[39mheaders, raw_data\n",
      "File \u001b[0;32m~/Library/Python/3.9/lib/python/site-packages/opensearchpy/connection/base.py:316\u001b[0m, in \u001b[0;36mConnection._raise_error\u001b[0;34m(self, status_code, raw_data, content_type)\u001b[0m\n\u001b[1;32m    313\u001b[0m \u001b[38;5;28;01mexcept\u001b[39;00m (\u001b[38;5;167;01mValueError\u001b[39;00m, \u001b[38;5;167;01mTypeError\u001b[39;00m) \u001b[38;5;28;01mas\u001b[39;00m err:\n\u001b[1;32m    314\u001b[0m     logger\u001b[38;5;241m.\u001b[39mwarning(\u001b[38;5;124m\"\u001b[39m\u001b[38;5;124mUndecodable raw error response from server: \u001b[39m\u001b[38;5;132;01m%s\u001b[39;00m\u001b[38;5;124m\"\u001b[39m, err)\n\u001b[0;32m--> 316\u001b[0m \u001b[38;5;28;01mraise\u001b[39;00m HTTP_EXCEPTIONS\u001b[38;5;241m.\u001b[39mget(status_code, TransportError)(\n\u001b[1;32m    317\u001b[0m     status_code, error_message, additional_info\n\u001b[1;32m    318\u001b[0m )\n",
      "\u001b[0;31mNotFoundError\u001b[0m: NotFoundError(404, 'index_not_found_exception', 'no such index [multi-modal-embedding-index]')"
     ]
    }
   ],
   "source": [
    "# Delete the index\n",
    "index_name = \"multi-modal-embedding-index\"\n",
    "response = search.indices.delete(index=index_name)\n",
    "print(response)"
   ]
  },
  {
   "cell_type": "code",
   "execution_count": 38,
   "metadata": {},
   "outputs": [],
   "source": [
    "mapping = {\n",
    "    \"settings\": {\n",
    "        \"index.knn\": True,\n",
    "    },\n",
    "    \"mappings\": {\n",
    "        \"properties\": {\n",
    "            \"titan_multimodal_embedding\": {\n",
    "                \"type\": \"knn_vector\",\n",
    "                \"dimension\": 1024\n",
    "            },\n",
    "            \"title\": { \n",
    "                \"type\": \"text\"            \n",
    "            },\n",
    "            \"plotSummary\": { \n",
    "                \"type\": \"text\"            \n",
    "            },\n",
    "            \"movieId\": { \n",
    "                \"type\": \"keyword\"            \n",
    "            },\n",
    "            \"imdbMovieId\": { \n",
    "                \"type\": \"keyword\"            \n",
    "            },\n",
    "            \"posterPath\": { \n",
    "                \"type\": \"text\"            \n",
    "            },\n",
    "        }\n",
    "    }\n",
    "}"
   ]
  },
  {
   "cell_type": "code",
   "execution_count": 41,
   "metadata": {},
   "outputs": [],
   "source": [
    "# Create the index\n",
    "index_name = \"multi-modal-embedding-index\"\n",
    "response = search.indices.create(index=index_name, body=mapping)"
   ]
  },
  {
   "cell_type": "code",
   "execution_count": 42,
   "metadata": {},
   "outputs": [],
   "source": [
    "def create_document_from_row(row):\n",
    "\n",
    "    embedding_file = 'embeddings/with_title_' + row['posterPath'].split(\"/\")[-1].split(\".\")[0] + '.json'\n",
    "    with open(embedding_file) as json_file:\n",
    "        data = json.load(json_file)\n",
    "\n",
    "    document = {\n",
    "        \"titan_multimodal_embedding\": data['embedding'],\n",
    "        \"title\": row['title'],\n",
    "        \"plotSummary\": row['plotSummary'],\n",
    "        \"movieId\": row['movieId'],\n",
    "        \"imdbMovieId\": row['imdbMovieId'],\n",
    "        \"posterPath\": row['posterPath']        \n",
    "    }\n",
    "    return document"
   ]
  },
  {
   "cell_type": "code",
   "execution_count": 43,
   "metadata": {},
   "outputs": [
    {
     "name": "stdout",
     "output_type": "stream",
     "text": [
      "{'_index': 'multi-modal-embedding-index', '_id': '1%3A0%3AjcRfV4wBrGqo3jb5pGd5', '_version': 1, 'result': 'created', '_shards': {'total': 0, 'successful': 0, 'failed': 0}, '_seq_no': 0, '_primary_term': 0}\n",
      "{'_index': 'multi-modal-embedding-index', '_id': '1%3A0%3A8-1fV4wB9kdO_KBxrUa6', '_version': 1, 'result': 'created', '_shards': {'total': 0, 'successful': 0, 'failed': 0}, '_seq_no': 0, '_primary_term': 0}\n",
      "{'_index': 'multi-modal-embedding-index', '_id': '1%3A0%3AjsRfV4wBrGqo3jb5sGeE', '_version': 1, 'result': 'created', '_shards': {'total': 0, 'successful': 0, 'failed': 0}, '_seq_no': 0, '_primary_term': 0}\n",
      "{'_index': 'multi-modal-embedding-index', '_id': '1%3A0%3A9O1fV4wB9kdO_KBxskZ6', '_version': 1, 'result': 'created', '_shards': {'total': 0, 'successful': 0, 'failed': 0}, '_seq_no': 0, '_primary_term': 0}\n",
      "{'_index': 'multi-modal-embedding-index', '_id': '1%3A0%3Aj8RfV4wBrGqo3jb5tWeL', '_version': 1, 'result': 'created', '_shards': {'total': 0, 'successful': 0, 'failed': 0}, '_seq_no': 0, '_primary_term': 0}\n",
      "{'_index': 'multi-modal-embedding-index', '_id': '1%3A0%3A9e1fV4wB9kdO_KBxt0Zx', '_version': 1, 'result': 'created', '_shards': {'total': 0, 'successful': 0, 'failed': 0}, '_seq_no': 0, '_primary_term': 0}\n",
      "{'_index': 'multi-modal-embedding-index', '_id': '1%3A0%3AkMRfV4wBrGqo3jb5uWcP', '_version': 1, 'result': 'created', '_shards': {'total': 0, 'successful': 0, 'failed': 0}, '_seq_no': 0, '_primary_term': 0}\n",
      "{'_index': 'multi-modal-embedding-index', '_id': '1%3A0%3A9u1fV4wB9kdO_KBxu0aQ', '_version': 1, 'result': 'created', '_shards': {'total': 0, 'successful': 0, 'failed': 0}, '_seq_no': 0, '_primary_term': 0}\n",
      "{'_index': 'multi-modal-embedding-index', '_id': '1%3A0%3AkcRfV4wBrGqo3jb5vWdt', '_version': 1, 'result': 'created', '_shards': {'total': 0, 'successful': 0, 'failed': 0}, '_seq_no': 0, '_primary_term': 0}\n",
      "{'_index': 'multi-modal-embedding-index', '_id': '1%3A0%3A9-1fV4wB9kdO_KBxv0Zu', '_version': 1, 'result': 'created', '_shards': {'total': 0, 'successful': 0, 'failed': 0}, '_seq_no': 0, '_primary_term': 0}\n",
      "{'_index': 'multi-modal-embedding-index', '_id': '1%3A0%3AksRfV4wBrGqo3jb5wWc-', '_version': 1, 'result': 'created', '_shards': {'total': 0, 'successful': 0, 'failed': 0}, '_seq_no': 0, '_primary_term': 0}\n",
      "{'_index': 'multi-modal-embedding-index', '_id': '1%3A0%3A-O1fV4wB9kdO_KBxw0Y-', '_version': 1, 'result': 'created', '_shards': {'total': 0, 'successful': 0, 'failed': 0}, '_seq_no': 0, '_primary_term': 0}\n",
      "{'_index': 'multi-modal-embedding-index', '_id': '1%3A0%3Ak8RfV4wBrGqo3jb5xWeT', '_version': 1, 'result': 'created', '_shards': {'total': 0, 'successful': 0, 'failed': 0}, '_seq_no': 0, '_primary_term': 0}\n",
      "{'_index': 'multi-modal-embedding-index', '_id': '1%3A0%3A-e1fV4wB9kdO_KBxx0aQ', '_version': 1, 'result': 'created', '_shards': {'total': 0, 'successful': 0, 'failed': 0}, '_seq_no': 0, '_primary_term': 0}\n",
      "{'_index': 'multi-modal-embedding-index', '_id': '1%3A0%3AlMRfV4wBrGqo3jb5yWc6', '_version': 1, 'result': 'created', '_shards': {'total': 0, 'successful': 0, 'failed': 0}, '_seq_no': 0, '_primary_term': 0}\n",
      "{'_index': 'multi-modal-embedding-index', '_id': '1%3A0%3A-u1fV4wB9kdO_KBxy0Yu', '_version': 1, 'result': 'created', '_shards': {'total': 0, 'successful': 0, 'failed': 0}, '_seq_no': 0, '_primary_term': 0}\n",
      "{'_index': 'multi-modal-embedding-index', '_id': '1%3A0%3AlcRfV4wBrGqo3jb5zWcn', '_version': 1, 'result': 'created', '_shards': {'total': 0, 'successful': 0, 'failed': 0}, '_seq_no': 0, '_primary_term': 0}\n",
      "{'_index': 'multi-modal-embedding-index', '_id': '1%3A0%3A--1fV4wB9kdO_KBxzkb8', '_version': 1, 'result': 'created', '_shards': {'total': 0, 'successful': 0, 'failed': 0}, '_seq_no': 0, '_primary_term': 0}\n",
      "{'_index': 'multi-modal-embedding-index', '_id': '1%3A0%3AlsRfV4wBrGqo3jb50WdL', '_version': 1, 'result': 'created', '_shards': {'total': 0, 'successful': 0, 'failed': 0}, '_seq_no': 0, '_primary_term': 0}\n",
      "{'_index': 'multi-modal-embedding-index', '_id': '1%3A0%3A_O1fV4wB9kdO_KBx00Y0', '_version': 1, 'result': 'created', '_shards': {'total': 0, 'successful': 0, 'failed': 0}, '_seq_no': 0, '_primary_term': 0}\n",
      "{'_index': 'multi-modal-embedding-index', '_id': '1%3A0%3Al8RfV4wBrGqo3jb51WcA', '_version': 1, 'result': 'created', '_shards': {'total': 0, 'successful': 0, 'failed': 0}, '_seq_no': 0, '_primary_term': 0}\n",
      "{'_index': 'multi-modal-embedding-index', '_id': '1%3A0%3A_e1fV4wB9kdO_KBx10Yt', '_version': 1, 'result': 'created', '_shards': {'total': 0, 'successful': 0, 'failed': 0}, '_seq_no': 0, '_primary_term': 0}\n",
      "{'_index': 'multi-modal-embedding-index', '_id': '1%3A0%3AmMRfV4wBrGqo3jb52GfU', '_version': 1, 'result': 'created', '_shards': {'total': 0, 'successful': 0, 'failed': 0}, '_seq_no': 0, '_primary_term': 0}\n",
      "{'_index': 'multi-modal-embedding-index', '_id': '1%3A0%3A_u1fV4wB9kdO_KBx2kbD', '_version': 1, 'result': 'created', '_shards': {'total': 0, 'successful': 0, 'failed': 0}, '_seq_no': 0, '_primary_term': 0}\n",
      "{'_index': 'multi-modal-embedding-index', '_id': '1%3A0%3AmcRfV4wBrGqo3jb53GeF', '_version': 1, 'result': 'created', '_shards': {'total': 0, 'successful': 0, 'failed': 0}, '_seq_no': 0, '_primary_term': 0}\n",
      "{'_index': 'multi-modal-embedding-index', '_id': '1%3A0%3A_-1fV4wB9kdO_KBx3kbD', '_version': 1, 'result': 'created', '_shards': {'total': 0, 'successful': 0, 'failed': 0}, '_seq_no': 0, '_primary_term': 0}\n",
      "{'_index': 'multi-modal-embedding-index', '_id': '1%3A0%3AmsRfV4wBrGqo3jb54GfB', '_version': 1, 'result': 'created', '_shards': {'total': 0, 'successful': 0, 'failed': 0}, '_seq_no': 0, '_primary_term': 0}\n",
      "{'_index': 'multi-modal-embedding-index', '_id': '1%3A0%3AAO1fV4wB9kdO_KBx4ke6', '_version': 1, 'result': 'created', '_shards': {'total': 0, 'successful': 0, 'failed': 0}, '_seq_no': 0, '_primary_term': 0}\n",
      "{'_index': 'multi-modal-embedding-index', '_id': '1%3A0%3Am8RfV4wBrGqo3jb55Ge-', '_version': 1, 'result': 'created', '_shards': {'total': 0, 'successful': 0, 'failed': 0}, '_seq_no': 0, '_primary_term': 0}\n",
      "{'_index': 'multi-modal-embedding-index', '_id': '1%3A0%3AAe1fV4wB9kdO_KBx5keS', '_version': 1, 'result': 'created', '_shards': {'total': 0, 'successful': 0, 'failed': 0}, '_seq_no': 0, '_primary_term': 0}\n",
      "{'_index': 'multi-modal-embedding-index', '_id': '1%3A0%3AnMRfV4wBrGqo3jb56GeG', '_version': 1, 'result': 'created', '_shards': {'total': 0, 'successful': 0, 'failed': 0}, '_seq_no': 0, '_primary_term': 0}\n",
      "{'_index': 'multi-modal-embedding-index', '_id': '1%3A0%3AAu1fV4wB9kdO_KBx6kdv', '_version': 1, 'result': 'created', '_shards': {'total': 0, 'successful': 0, 'failed': 0}, '_seq_no': 0, '_primary_term': 0}\n",
      "{'_index': 'multi-modal-embedding-index', '_id': '1%3A0%3AncRfV4wBrGqo3jb57Gcl', '_version': 1, 'result': 'created', '_shards': {'total': 0, 'successful': 0, 'failed': 0}, '_seq_no': 0, '_primary_term': 0}\n",
      "{'_index': 'multi-modal-embedding-index', '_id': '1%3A0%3AA-1fV4wB9kdO_KBx7kcY', '_version': 1, 'result': 'created', '_shards': {'total': 0, 'successful': 0, 'failed': 0}, '_seq_no': 0, '_primary_term': 0}\n",
      "{'_index': 'multi-modal-embedding-index', '_id': '1%3A0%3AnsRfV4wBrGqo3jb572fh', '_version': 1, 'result': 'created', '_shards': {'total': 0, 'successful': 0, 'failed': 0}, '_seq_no': 0, '_primary_term': 0}\n",
      "{'_index': 'multi-modal-embedding-index', '_id': '1%3A0%3ABO1fV4wB9kdO_KBx8Uen', '_version': 1, 'result': 'created', '_shards': {'total': 0, 'successful': 0, 'failed': 0}, '_seq_no': 0, '_primary_term': 0}\n",
      "{'_index': 'multi-modal-embedding-index', '_id': '1%3A0%3An8RfV4wBrGqo3jb582dP', '_version': 1, 'result': 'created', '_shards': {'total': 0, 'successful': 0, 'failed': 0}, '_seq_no': 0, '_primary_term': 0}\n",
      "{'_index': 'multi-modal-embedding-index', '_id': '1%3A0%3ABe1fV4wB9kdO_KBx9Uc4', '_version': 1, 'result': 'created', '_shards': {'total': 0, 'successful': 0, 'failed': 0}, '_seq_no': 0, '_primary_term': 0}\n",
      "{'_index': 'multi-modal-embedding-index', '_id': '1%3A0%3AoMRfV4wBrGqo3jb592cv', '_version': 1, 'result': 'created', '_shards': {'total': 0, 'successful': 0, 'failed': 0}, '_seq_no': 0, '_primary_term': 0}\n",
      "{'_index': 'multi-modal-embedding-index', '_id': '1%3A0%3ABu1fV4wB9kdO_KBx-Uc1', '_version': 1, 'result': 'created', '_shards': {'total': 0, 'successful': 0, 'failed': 0}, '_seq_no': 0, '_primary_term': 0}\n",
      "{'_index': 'multi-modal-embedding-index', '_id': '1%3A0%3AocRfV4wBrGqo3jb5-2cx', '_version': 1, 'result': 'created', '_shards': {'total': 0, 'successful': 0, 'failed': 0}, '_seq_no': 0, '_primary_term': 0}\n",
      "{'_index': 'multi-modal-embedding-index', '_id': '1%3A0%3AB-1fV4wB9kdO_KBx_Uct', '_version': 1, 'result': 'created', '_shards': {'total': 0, 'successful': 0, 'failed': 0}, '_seq_no': 0, '_primary_term': 0}\n",
      "{'_index': 'multi-modal-embedding-index', '_id': '1%3A0%3AosRfV4wBrGqo3jb5_2cq', '_version': 1, 'result': 'created', '_shards': {'total': 0, 'successful': 0, 'failed': 0}, '_seq_no': 0, '_primary_term': 0}\n",
      "{'_index': 'multi-modal-embedding-index', '_id': '1%3A0%3ACO1gV4wB9kdO_KBxAUdq', '_version': 1, 'result': 'created', '_shards': {'total': 0, 'successful': 0, 'failed': 0}, '_seq_no': 0, '_primary_term': 0}\n",
      "{'_index': 'multi-modal-embedding-index', '_id': '1%3A0%3Ao8RgV4wBrGqo3jb5A2cf', '_version': 1, 'result': 'created', '_shards': {'total': 0, 'successful': 0, 'failed': 0}, '_seq_no': 0, '_primary_term': 0}\n",
      "{'_index': 'multi-modal-embedding-index', '_id': '1%3A0%3ACe1gV4wB9kdO_KBxBEf8', '_version': 1, 'result': 'created', '_shards': {'total': 0, 'successful': 0, 'failed': 0}, '_seq_no': 0, '_primary_term': 0}\n",
      "{'_index': 'multi-modal-embedding-index', '_id': '1%3A0%3ApMRgV4wBrGqo3jb5BmfO', '_version': 1, 'result': 'created', '_shards': {'total': 0, 'successful': 0, 'failed': 0}, '_seq_no': 0, '_primary_term': 0}\n",
      "{'_index': 'multi-modal-embedding-index', '_id': '1%3A0%3ACu1gV4wB9kdO_KBxCEev', '_version': 1, 'result': 'created', '_shards': {'total': 0, 'successful': 0, 'failed': 0}, '_seq_no': 0, '_primary_term': 0}\n",
      "{'_index': 'multi-modal-embedding-index', '_id': '1%3A0%3ApcRgV4wBrGqo3jb5Cmd8', '_version': 1, 'result': 'created', '_shards': {'total': 0, 'successful': 0, 'failed': 0}, '_seq_no': 0, '_primary_term': 0}\n",
      "{'_index': 'multi-modal-embedding-index', '_id': '1%3A0%3AC-1gV4wB9kdO_KBxDEd-', '_version': 1, 'result': 'created', '_shards': {'total': 0, 'successful': 0, 'failed': 0}, '_seq_no': 0, '_primary_term': 0}\n",
      "{'_index': 'multi-modal-embedding-index', '_id': '1%3A0%3ApsRgV4wBrGqo3jb5Dmc4', '_version': 1, 'result': 'created', '_shards': {'total': 0, 'successful': 0, 'failed': 0}, '_seq_no': 0, '_primary_term': 0}\n",
      "{'_index': 'multi-modal-embedding-index', '_id': '1%3A0%3ADO1gV4wB9kdO_KBxEEdU', '_version': 1, 'result': 'created', '_shards': {'total': 0, 'successful': 0, 'failed': 0}, '_seq_no': 0, '_primary_term': 0}\n",
      "{'_index': 'multi-modal-embedding-index', '_id': '1%3A0%3Ap8RgV4wBrGqo3jb5EWfz', '_version': 1, 'result': 'created', '_shards': {'total': 0, 'successful': 0, 'failed': 0}, '_seq_no': 0, '_primary_term': 0}\n",
      "{'_index': 'multi-modal-embedding-index', '_id': '1%3A0%3ADe1gV4wB9kdO_KBxE0eJ', '_version': 1, 'result': 'created', '_shards': {'total': 0, 'successful': 0, 'failed': 0}, '_seq_no': 0, '_primary_term': 0}\n",
      "{'_index': 'multi-modal-embedding-index', '_id': '1%3A0%3AqMRgV4wBrGqo3jb5FWd0', '_version': 1, 'result': 'created', '_shards': {'total': 0, 'successful': 0, 'failed': 0}, '_seq_no': 0, '_primary_term': 0}\n",
      "{'_index': 'multi-modal-embedding-index', '_id': '1%3A0%3ADu1gV4wB9kdO_KBxF0eR', '_version': 1, 'result': 'created', '_shards': {'total': 0, 'successful': 0, 'failed': 0}, '_seq_no': 0, '_primary_term': 0}\n"
     ]
    }
   ],
   "source": [
    "for index, row in df.iterrows():\n",
    "    document = create_document_from_row(row)\n",
    "    response = search.index(index=\"multi-modal-embedding-index\", body=document)\n",
    "    print(response)"
   ]
  },
  {
   "cell_type": "code",
   "execution_count": null,
   "metadata": {},
   "outputs": [],
   "source": []
  }
 ],
 "metadata": {
  "kernelspec": {
   "display_name": "base",
   "language": "python",
   "name": "python3"
  },
  "language_info": {
   "codemirror_mode": {
    "name": "ipython",
    "version": 3
   },
   "file_extension": ".py",
   "mimetype": "text/x-python",
   "name": "python",
   "nbconvert_exporter": "python",
   "pygments_lexer": "ipython3",
   "version": "3.9.6"
  }
 },
 "nbformat": 4,
 "nbformat_minor": 2
}
